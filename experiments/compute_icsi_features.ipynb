{
 "cells": [
  {
   "cell_type": "code",
   "execution_count": 1,
   "metadata": {},
   "outputs": [],
   "source": [
    "import logging\n",
    "import numpy as np\n",
    "\n",
    "import matplotlib.pyplot as plt\n",
    "import seaborn as sns\n",
    "\n",
    "from gensim.models import KeyedVectors\n",
    "from nltk.tokenize.stanford import StanfordTokenizer\n",
    "from sklearn.preprocessing import LabelEncoder\n",
    "\n",
    "from utils import data_reader\n",
    "from utils import processing\n",
    "from utils import opf_helper\n",
    "\n",
    "logging.basicConfig(level=logging.INFO)\n"
   ]
  },
  {
   "cell_type": "code",
   "execution_count": 2,
   "metadata": {},
   "outputs": [],
   "source": [
    "TOK_PATH    = '../tokenizer/stanford-corenlp-3.9.0.jar'\n",
    "MODEL_PATH  = '../vsms/wglove.840B.300d.bin'\n",
    "\n",
    "# just ensure that these files contain punctuation\n",
    "ICSI_EVEN_T = '../datasets/clean/icsi_train.tsv'\n",
    "ICSI_EVEN_D = '../datasets/clean/icsi_dev.tsv'\n",
    "ICSI_EVEN_E = '../datasets/clean/icsi_test.tsv'\n",
    "\n",
    "FEATURES_FILE = './icsi_opf/icsi_samples.txt'\n",
    "MIN_CLUSTERS = 2\n",
    "MIN_WORD_FREQ = 3"
   ]
  },
  {
   "cell_type": "code",
   "execution_count": 3,
   "metadata": {},
   "outputs": [
    {
     "name": "stderr",
     "output_type": "stream",
     "text": [
      "INFO:root:Total of 75434 samples\n",
      "INFO:root:S - 45088\n",
      "INFO:root:D - 10201\n",
      "INFO:root:B - 10178\n",
      "INFO:root:F - 5328\n",
      "INFO:root:Q - 4639\n",
      "INFO:root:Total of 15436 samples\n",
      "INFO:root:S - 8936\n",
      "INFO:root:D - 2385\n",
      "INFO:root:B - 2033\n",
      "INFO:root:Q - 1043\n",
      "INFO:root:F - 1039\n",
      "INFO:root:Total of 15177 samples\n",
      "INFO:root:S - 8565\n",
      "INFO:root:D - 2228\n",
      "INFO:root:B - 1953\n",
      "INFO:root:F - 1316\n",
      "INFO:root:Q - 1115\n",
      "INFO:gensim.utils:loading EuclideanKeyedVectors object from ../vsms/wglove.840B.300d.bin\n",
      "INFO:gensim.utils:loading syn0 from ../vsms/wglove.840B.300d.bin.syn0.npy with mmap=None\n",
      "INFO:gensim.utils:setting ignored attribute syn0norm to None\n",
      "INFO:gensim.utils:loaded ../vsms/wglove.840B.300d.bin\n"
     ]
    }
   ],
   "source": [
    "%%capture\n",
    "# /\\ hidding Stanford Parser warning messages\n",
    "\n",
    "X_train, y_train = data_reader.read_dataset(ICSI_EVEN_T)\n",
    "X_dev,   y_dev   = data_reader.read_dataset(ICSI_EVEN_D)\n",
    "X_test,  y_test  = data_reader.read_dataset(ICSI_EVEN_E)\n",
    "\n",
    "model     = KeyedVectors.load(MODEL_PATH)\n",
    "tokenizer = StanfordTokenizer(TOK_PATH)\n",
    "\n",
    "X_tok_t, word_freq = processing.tokenize_stanford(X_train, tokenizer)\n",
    "X_tok_d, _         = processing.tokenize_stanford(X_dev, tokenizer)\n",
    "X_tok_e, _         = processing.tokenize_stanford(X_test, tokenizer)"
   ]
  },
  {
   "cell_type": "code",
   "execution_count": 4,
   "metadata": {},
   "outputs": [
    {
     "name": "stderr",
     "output_type": "stream",
     "text": [
      "INFO:root:Vocab size:  10425\n",
      "INFO:root:Keeping:      5004 (48.0%)\n",
      "INFO:gensim.models.keyedvectors:precomputing L2-norms of word weight vectors\n",
      "WARNING:root:870 sentences without representation.\n",
      "WARNING:root:5506 OOV words\n",
      "WARNING:root:204 sentences without representation.\n",
      "WARNING:root:1630 OOV words\n",
      "WARNING:root:218 sentences without representation.\n",
      "WARNING:root:1532 OOV words\n"
     ]
    }
   ],
   "source": [
    "pruned_vocab = processing.keep_common_words(word_freq, MIN_WORD_FREQ)\n",
    "# pruned_vocab = word_freq.keys()\n",
    "\n",
    "X_emb_t = processing.tok_sentence_to_vec(X_tok_t, pruned_vocab, model, normalize_sentence=4,\n",
    "                                         normalize_word=False, show_logs=1)\n",
    "X_emb_d = processing.tok_sentence_to_vec(X_tok_d, pruned_vocab, model, normalize_sentence=4,\n",
    "                                         normalize_word=False, show_logs=1)\n",
    "X_emb_e = processing.tok_sentence_to_vec(X_tok_e, pruned_vocab, model, normalize_sentence=4,\n",
    "                                         normalize_word=False, show_logs=1)\n",
    "\n",
    "encoder = LabelEncoder()\n",
    "y_emb_t = encoder.fit_transform(y_train)\n",
    "y_emb_d = encoder.transform(y_dev)\n",
    "y_emb_e = encoder.transform(y_test)"
   ]
  },
  {
   "cell_type": "code",
   "execution_count": 5,
   "metadata": {},
   "outputs": [],
   "source": [
    "X = np.vstack([X_emb_t, X_emb_d, X_emb_e])\n",
    "y = np.vstack([y_emb_t[:, None], y_emb_d[:, None], y_emb_e[:, None]]).flatten()\n",
    "\n",
    "# writing all features file, so distances can be computed\n",
    "opf_helper.write_opf_format(\n",
    "    X,\n",
    "    y + 1,\n",
    "    FEATURES_FILE\n",
    ")"
   ]
  }
 ],
 "metadata": {
  "kernelspec": {
   "display_name": "Python [conda env:tf_env]",
   "language": "python",
   "name": "conda-env-tf_env-py"
  },
  "language_info": {
   "codemirror_mode": {
    "name": "ipython",
    "version": 3
   },
   "file_extension": ".py",
   "mimetype": "text/x-python",
   "name": "python",
   "nbconvert_exporter": "python",
   "pygments_lexer": "ipython3",
   "version": "3.5.4"
  }
 },
 "nbformat": 4,
 "nbformat_minor": 2
}
